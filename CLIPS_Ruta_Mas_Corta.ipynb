{
  "nbformat": 4,
  "nbformat_minor": 0,
  "metadata": {
    "colab": {
      "provenance": [],
      "authorship_tag": "ABX9TyPdAT1VjE0O6bzZHqO57KvL",
      "include_colab_link": true
    },
    "kernelspec": {
      "name": "python3",
      "display_name": "Python 3"
    },
    "language_info": {
      "name": "python"
    }
  },
  "cells": [
    {
      "cell_type": "markdown",
      "metadata": {
        "id": "view-in-github",
        "colab_type": "text"
      },
      "source": [
        "<a href=\"https://colab.research.google.com/github/SergioManuelJob/ExpertSystemCLIPS/blob/master/CLIPS_Ruta_Mas_Corta.ipynb\" target=\"_parent\"><img src=\"https://colab.research.google.com/assets/colab-badge.svg\" alt=\"Open In Colab\"/></a>"
      ]
    },
    {
      "cell_type": "code",
      "source": [
        "!pip install clipspy\n",
        "\n",
        "# Importacion de clips\n",
        "import clips\n",
        "import logging"
      ],
      "metadata": {
        "colab": {
          "base_uri": "https://localhost:8080/"
        },
        "id": "WQ3hLWfwbl9t",
        "outputId": "9a3e769a-1959-4b98-a3ef-4c9c37da9bac"
      },
      "execution_count": 15,
      "outputs": [
        {
          "output_type": "stream",
          "name": "stdout",
          "text": [
            "Requirement already satisfied: clipspy in /usr/local/lib/python3.10/dist-packages (1.0.3)\n",
            "Requirement already satisfied: cffi>=1.0.0 in /usr/local/lib/python3.10/dist-packages (from clipspy) (1.16.0)\n",
            "Requirement already satisfied: pycparser in /usr/local/lib/python3.10/dist-packages (from cffi>=1.0.0->clipspy) (2.21)\n"
          ]
        }
      ]
    },
    {
      "cell_type": "markdown",
      "source": [
        "Prueba de ClipsPy"
      ],
      "metadata": {
        "id": "LIv0T4CynsNb"
      }
    },
    {
      "cell_type": "code",
      "source": [
        "# Preparación del entorno\n",
        "logging.basicConfig(level=logging.DEBUG,\n",
        "                    force=True,\n",
        "                    format='CLIPS: %(message)s'\n",
        "                    )\n",
        "\n",
        "env = clips.Environment()\n",
        "\n",
        "TEMPLATE_NODO = \"\"\"\n",
        "(deftemplate nodo\n",
        "   (slot nombre (type SYMBOL))\n",
        "   (slot vecino (type SYMBOL))\n",
        "   (slot distancia (type INTEGER))\n",
        ")\"\"\"\n",
        "\n",
        "TEMPLATE_NODOINICIAL = \"\"\"\n",
        "(deftemplate nodoInicial\n",
        "   (slot nombre)\n",
        ")\n",
        "\"\"\"\n",
        "\n",
        "TEMPLATE_RUTA = \"\"\"\n",
        "(deftemplate ruta\n",
        "   (slot inicial (type SYMBOL))\n",
        "   (slot final (type SYMBOL))\n",
        "   (slot costo (type INTEGER))\n",
        ")\n",
        "\"\"\"\n",
        "\n",
        "DEFFACTS_NODOS = \"\"\"\n",
        "(deffacts nodos-iniciales\n",
        "   (nodo (nombre A) (vecino B) (distancia 10))\n",
        "   (nodo (nombre A) (vecino C) (distancia 30))\n",
        "   (nodo (nombre A) (vecino D) (distancia 100))\n",
        "   (nodo (nombre B) (vecino C) (distancia 5))\n",
        "   (nodo (nombre C) (vecino D) (distancia 7))\n",
        ")\n",
        "\"\"\"\n",
        "\n",
        "DEFRULE_ENCONTRARRUTA= \"\"\"\n",
        "(defrule encontrar-ruta\n",
        "   ?nodoInicial <- (nodoInicial (nombre ?inicio))\n",
        "   ?nodoVecino <- (nodo (nombre ?inicio) (vecino ?vecino) (distancia ?distancia))\n",
        "   =>\n",
        "   (printout t \"Calculando la mejor ruta desde el nodo \" ?inicio \" hacia otros nodos:\" crlf)\n",
        "   (printout t \"  \" ?vecino \" (Costo: \" ?distancia \")\" crlf)\n",
        "   (assert (ruta (inicial ?inicio) (final ?vecino) (costo ?distancia)))\n",
        ")\n",
        "\"\"\"\n",
        "\n",
        "DEFRULE_ENCONTRARRUTAINDIRECTA = \"\"\"\n",
        "(defrule encontrar-rutas-indirectas\n",
        "   ?ruta <- (ruta (inicial ?inicio) (final ?intermedio) (costo ?costo1))\n",
        "   ?nodoIntermedio <- (nodo (nombre ?intermedio) (vecino ?final) (distancia ?distancia2))\n",
        "   (test (not (eq ?intermedio ?inicio)))\n",
        "   =>\n",
        "   (bind ?costoTotal (+ ?costo1 ?distancia2))\n",
        "   (printout t \"  \" ?final \" (Costo: \" ?costoTotal \")\" crlf)\n",
        "   (assert (ruta (inicial ?inicio) (final ?final) (costo ?costoTotal)))\n",
        "   (retract ?ruta)\n",
        ")\n",
        "\"\"\"\n",
        "\n",
        "# Falta el reset y el assert\n",
        "\n",
        "env.build(TEMPLATE_NODO)\n",
        "env.build(TEMPLATE_NODOINICIAL)\n",
        "env.build(TEMPLATE_RUTA)\n",
        "env.build(DEFFACTS_NODOS)\n",
        "env.reset()\n",
        "\n",
        "template = env.find_template('nodoInicial')\n",
        "\n",
        "fact = template.assert_fact(nombre='A')\n",
        "assert fact['nombre'] == 'A'\n",
        "\n",
        "env.build(DEFRULE_ENCONTRARRUTA)\n",
        "env.build(DEFRULE_ENCONTRARRUTAINDIRECTA)\n",
        "\n",
        "router = clips.LoggingRouter()\n",
        "env.add_router(router)\n",
        "env.run()"
      ],
      "metadata": {
        "colab": {
          "base_uri": "https://localhost:8080/"
        },
        "id": "J_N0GQnEnuNj",
        "outputId": "a6bdaf92-f204-455a-fc4d-0f03f9d49fa0"
      },
      "execution_count": 16,
      "outputs": [
        {
          "output_type": "execute_result",
          "data": {
            "text/plain": [
              "0"
            ]
          },
          "metadata": {},
          "execution_count": 16
        }
      ]
    },
    {
      "cell_type": "code",
      "source": [
        "facts = env.facts()\n",
        "\n",
        "# Imprimir los hechos\n",
        "print(\"Hechos después de la ejecución:\")\n",
        "for fact in facts:\n",
        "    print(fact)"
      ],
      "metadata": {
        "colab": {
          "base_uri": "https://localhost:8080/"
        },
        "id": "7YmXPlfWrafT",
        "outputId": "f3f44302-9752-43a2-e171-e8497c1212ca"
      },
      "execution_count": 17,
      "outputs": [
        {
          "output_type": "stream",
          "name": "stdout",
          "text": [
            "Hechos después de la ejecución:\n",
            "(nodo (nombre A) (vecino B) (distancia 10))\n",
            "(nodo (nombre A) (vecino C) (distancia 30))\n",
            "(nodo (nombre A) (vecino D) (distancia 100))\n",
            "(nodo (nombre B) (vecino C) (distancia 5))\n",
            "(nodo (nombre C) (vecino D) (distancia 7))\n",
            "(nodoInicial (nombre \"A\"))\n"
          ]
        }
      ]
    }
  ]
}