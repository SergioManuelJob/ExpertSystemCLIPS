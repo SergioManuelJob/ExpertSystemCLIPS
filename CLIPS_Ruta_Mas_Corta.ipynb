{
  "nbformat": 4,
  "nbformat_minor": 0,
  "metadata": {
    "colab": {
      "provenance": [],
      "authorship_tag": "ABX9TyO1l01P+qfGugrGnxoFRsme",
      "include_colab_link": true
    },
    "kernelspec": {
      "name": "python3",
      "display_name": "Python 3"
    },
    "language_info": {
      "name": "python"
    }
  },
  "cells": [
    {
      "cell_type": "markdown",
      "metadata": {
        "id": "view-in-github",
        "colab_type": "text"
      },
      "source": [
        "<a href=\"https://colab.research.google.com/github/SergioManuelJob/ExpertSystemCLIPS/blob/master/CLIPS_Ruta_Mas_Corta.ipynb\" target=\"_parent\"><img src=\"https://colab.research.google.com/assets/colab-badge.svg\" alt=\"Open In Colab\"/></a>"
      ]
    },
    {
      "cell_type": "code",
      "source": [
        "!pip install clipspy\n",
        "\n",
        "# Importacion de clips\n",
        "import clips\n",
        "import logging"
      ],
      "metadata": {
        "colab": {
          "base_uri": "https://localhost:8080/"
        },
        "id": "WQ3hLWfwbl9t",
        "outputId": "c257399d-0351-4f9b-91a4-1d8abb51a0ba"
      },
      "execution_count": null,
      "outputs": [
        {
          "output_type": "stream",
          "name": "stdout",
          "text": [
            "Collecting clipspy\n",
            "  Downloading clipspy-1.0.3-cp310-cp310-manylinux_2_17_x86_64.manylinux2014_x86_64.whl (891 kB)\n",
            "\u001b[2K     \u001b[90m━━━━━━━━━━━━━━━━━━━━━━━━━━━━━━━━━━━━━━━━\u001b[0m \u001b[32m891.6/891.6 kB\u001b[0m \u001b[31m6.7 MB/s\u001b[0m eta \u001b[36m0:00:00\u001b[0m\n",
            "\u001b[?25hRequirement already satisfied: cffi>=1.0.0 in /usr/local/lib/python3.10/dist-packages (from clipspy) (1.16.0)\n",
            "Requirement already satisfied: pycparser in /usr/local/lib/python3.10/dist-packages (from cffi>=1.0.0->clipspy) (2.21)\n",
            "Installing collected packages: clipspy\n",
            "Successfully installed clipspy-1.0.3\n"
          ]
        }
      ]
    },
    {
      "cell_type": "markdown",
      "source": [
        "Prueba de ClipsPy"
      ],
      "metadata": {
        "id": "LIv0T4CynsNb"
      }
    },
    {
      "cell_type": "code",
      "source": [
        "# Preparación del entorno\n",
        "logging.basicConfig(level=logging.DEBUG,\n",
        "                    force=True,\n",
        "                    format='%(message)s'\n",
        "                    )"
      ],
      "metadata": {
        "id": "oKNp0BMkaikT"
      },
      "execution_count": null,
      "outputs": []
    },
    {
      "cell_type": "code",
      "source": [
        "DEFTEMPLATE_NODO = \"\"\"\n",
        "(deftemplate nodo\n",
        "   (slot nombre (type SYMBOL))\n",
        "   (slot vecino (type SYMBOL))\n",
        "   (slot distancia (type INTEGER))\n",
        ")\"\"\"\n",
        "\n",
        "DEFTEMPLATE_NODOINICIAL = \"\"\"\n",
        "(deftemplate nodoInicial\n",
        "   (slot nombre)\n",
        ")\n",
        "\"\"\"\n",
        "\n",
        "DEFTEMPLATE_RUTA = \"\"\"\n",
        "(deftemplate ruta\n",
        "   (slot inicial (type SYMBOL))\n",
        "   (slot final (type SYMBOL))\n",
        "   (slot costo (type INTEGER))\n",
        ")\n",
        "\"\"\""
      ],
      "metadata": {
        "id": "imrOSt6wakY7"
      },
      "execution_count": null,
      "outputs": []
    },
    {
      "cell_type": "code",
      "source": [
        "DEFFACTS_NODOS = \"\"\"\n",
        "(deffacts nodos-iniciales\n",
        "   (nodo (nombre A) (vecino B) (distancia 10))\n",
        "   (nodo (nombre A) (vecino C) (distancia 30))\n",
        "   (nodo (nombre A) (vecino D) (distancia 100))\n",
        "   (nodo (nombre B) (vecino C) (distancia 5))\n",
        "   (nodo (nombre C) (vecino D) (distancia 7))\n",
        ")\n",
        "\"\"\"\n",
        "\n",
        "DEFFACTS_NODOINICIAL = \"\"\"\n",
        "(deffacts nodo-inicial\n",
        "   (nodoInicial (nombre A))\n",
        ")\n",
        "\"\"\""
      ],
      "metadata": {
        "id": "qUKXChu3awur"
      },
      "execution_count": null,
      "outputs": []
    },
    {
      "cell_type": "code",
      "source": [
        "DEFRULE_ENCONTRARRUTA= \"\"\"\n",
        "(defrule encontrar-ruta\n",
        "   ?nodoInicial <- (nodoInicial (nombre ?inicio))\n",
        "   ?nodoVecino <- (nodo (nombre ?inicio) (vecino ?vecino) (distancia ?distancia))\n",
        "   =>\n",
        "   (printout t \"Calculando la mejor ruta desde el nodo \" ?inicio \" hacia otros nodos:\" crlf)\n",
        "   (printout t \"  \" ?vecino \" (Costo: \" ?distancia \")\" crlf)\n",
        "   (assert (ruta (inicial ?inicio) (final ?vecino) (costo ?distancia)))\n",
        ")\n",
        "\"\"\"\n",
        "\n",
        "DEFRULE_ENCONTRARRUTAINDIRECTA = \"\"\"\n",
        "(defrule encontrar-rutas-indirectas\n",
        "   ?ruta <- (ruta (inicial ?inicio) (final ?intermedio) (costo ?costo1))\n",
        "   ?nodoIntermedio <- (nodo (nombre ?intermedio) (vecino ?final) (distancia ?distancia2))\n",
        "   (test (not (eq ?intermedio ?inicio)))\n",
        "   =>\n",
        "   (bind ?costoTotal (+ ?costo1 ?distancia2))\n",
        "   (printout t \"  \" ?final \" (Costo: \" ?costoTotal \")\" crlf)\n",
        "   (assert (ruta (inicial ?inicio) (final ?final) (costo ?costoTotal)))\n",
        "   (retract ?ruta)\n",
        ")\n",
        "\"\"\""
      ],
      "metadata": {
        "id": "HWaKJ0nXayl5"
      },
      "execution_count": null,
      "outputs": []
    },
    {
      "cell_type": "code",
      "source": [
        "env = clips.Environment()\n",
        "router = clips.LoggingRouter()\n",
        "env.add_router(router)\n",
        "\n",
        "env.build(DEFTEMPLATE_NODO)\n",
        "env.build(DEFTEMPLATE_NODOINICIAL)\n",
        "env.build(DEFTEMPLATE_RUTA)\n",
        "env.build(DEFFACTS_NODOS)\n",
        "env.build(DEFFACTS_NODOINICIAL)\n",
        "env.build(DEFRULE_ENCONTRARRUTA)\n",
        "env.build(DEFRULE_ENCONTRARRUTAINDIRECTA)\n",
        "env.reset()\n",
        "\n",
        "template = env.find_template('nodoInicial')\n",
        "\n",
        "print(\"Reglas:\\n\")\n",
        "for rule in env.rules():\n",
        "    print(rule)\n",
        "\n",
        "print(\"\\nFacts:\\n\")\n",
        "for fact in env.facts():\n",
        "    print(fact)"
      ],
      "metadata": {
        "colab": {
          "base_uri": "https://localhost:8080/"
        },
        "id": "J_N0GQnEnuNj",
        "outputId": "57fd9169-57f6-4aaa-a0f9-62749f2d135c"
      },
      "execution_count": null,
      "outputs": [
        {
          "output_type": "stream",
          "name": "stdout",
          "text": [
            "Reglas:\n",
            "\n",
            "(defrule MAIN::encontrar-ruta ?nodoInicial <- (nodoInicial (nombre ?inicio)) ?nodoVecino <- (nodo (nombre ?inicio) (vecino ?vecino) (distancia ?distancia)) => (printout t \"Calculando la mejor ruta desde el nodo \" ?inicio \" hacia otros nodos:\" crlf) (printout t \" \" ?vecino \" (Costo: \" ?distancia \")\" crlf) (assert (ruta (inicial ?inicio) (final ?vecino) (costo ?distancia))))\n",
            "(defrule MAIN::encontrar-rutas-indirectas ?ruta <- (ruta (inicial ?inicio) (final ?intermedio) (costo ?costo1)) ?nodoIntermedio <- (nodo (nombre ?intermedio) (vecino ?final) (distancia ?distancia2)) (test (not (eq ?intermedio ?inicio))) => (bind ?costoTotal (+ ?costo1 ?distancia2)) (printout t \" \" ?final \" (Costo: \" ?costoTotal \")\" crlf) (assert (ruta (inicial ?inicio) (final ?final) (costo ?costoTotal))) (retract ?ruta))\n",
            "\n",
            "Facts:\n",
            "\n",
            "(nodo (nombre A) (vecino B) (distancia 10))\n",
            "(nodo (nombre A) (vecino C) (distancia 30))\n",
            "(nodo (nombre A) (vecino D) (distancia 100))\n",
            "(nodo (nombre B) (vecino C) (distancia 5))\n",
            "(nodo (nombre C) (vecino D) (distancia 7))\n",
            "(nodoInicial (nombre A))\n"
          ]
        }
      ]
    },
    {
      "cell_type": "code",
      "source": [
        "env.run()"
      ],
      "metadata": {
        "colab": {
          "base_uri": "https://localhost:8080/"
        },
        "id": "kjlfi9kzfVuJ",
        "outputId": "779b03c7-f3e1-4c6b-a1d4-319ad2c6bd8d"
      },
      "execution_count": null,
      "outputs": [
        {
          "output_type": "stream",
          "name": "stderr",
          "text": [
            "Calculando la mejor ruta desde el nodo A hacia otros nodos:\n",
            "  D (Costo: 100)\n",
            "Calculando la mejor ruta desde el nodo A hacia otros nodos:\n",
            "  C (Costo: 30)\n",
            "  D (Costo: 37)\n",
            "Calculando la mejor ruta desde el nodo A hacia otros nodos:\n",
            "  B (Costo: 10)\n",
            "  C (Costo: 15)\n",
            "  D (Costo: 22)\n"
          ]
        },
        {
          "output_type": "execute_result",
          "data": {
            "text/plain": [
              "6"
            ]
          },
          "metadata": {},
          "execution_count": 7
        }
      ]
    }
  ]
}